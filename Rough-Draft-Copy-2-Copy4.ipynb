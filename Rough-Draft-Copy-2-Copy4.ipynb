{
 "cells": [
  {
   "cell_type": "markdown",
   "metadata": {},
   "source": [
    "## Final Project Submission\n",
    "\n",
    "Please fill out:\n",
    "* Student name: Bryan Jamieson\n",
    "* Student pace: Full Time\n",
    "* Scheduled project review date/time: 09/20/2019\n",
    "* Instructor name: Victor Geislinger\n",
    "* Blog post URL: \n"
   ]
  },
  {
   "cell_type": "markdown",
   "metadata": {},
   "source": [
    "# Flip or Flop"
   ]
  },
  {
   "cell_type": "markdown",
   "metadata": {},
   "source": [
    "##### This exploritory data analysis of Kings County Housing Data is intended for house flippers, trying to get the most bang for their buck. With house flippers in mind, I was interested to see if there was a relationship between houses price, house age, and zipcode.\n",
    "\n",
    "##### To figure this out, I used various data analysis and vizualisation techniques to understand the type of relationship between house price, house age, and zipcode."
   ]
  },
  {
   "cell_type": "markdown",
   "metadata": {},
   "source": [
    "## Objectives\n",
    "\n",
    "1) Explore and understand the data\n",
    "   - Look at trends, extreme, null and missing values.\n",
    "   - Added column to Data Set called \"house_age\"\n",
    "   \n",
    "2) Clean & Visualize The Data \n",
    "   - Before looking at my main variables: zipcodes, price, and house age,\n",
    "     I am going to clean my data by dealing with the missing values\n",
    "   - I see outliers, which I am going to tackle later on.\n",
    "   - I am going to look at the missing values again and then replace them.\n",
    " \n",
    "3) Modeling\n",
    "   - sklearn modeling\n",
    "   - splitting dataset into train and test sets\n",
    "   - statsmodeling\n",
    "   - ols"
   ]
  },
  {
   "cell_type": "markdown",
   "metadata": {},
   "source": [
    "# Data\n",
    "#### The Kings County Housing Data Set is named \"kc_house_data.csv\". "
   ]
  },
  {
   "cell_type": "markdown",
   "metadata": {},
   "source": [
    "Import Modules, import and rename csv file"
   ]
  },
  {
   "cell_type": "code",
   "execution_count": null,
   "metadata": {},
   "outputs": [],
   "source": [
    "import pandas as pd\n",
    "import numpy as np\n",
    "import seaborn as sns\n",
    "import sklearn\n",
    "import matplotlib.pyplot as plt\n",
    "import scipy.stats as stats\n",
    "from matplotlib import rcParams\n",
    "\n",
    "%matplotlib inline\n",
    "%pylab inline \n",
    "\n",
    "kc_df = pd.read_csv('kc_house_data.csv')"
   ]
  },
  {
   "cell_type": "markdown",
   "metadata": {},
   "source": [
    "# 1.) Explore and understand the data"
   ]
  },
  {
   "cell_type": "markdown",
   "metadata": {},
   "source": [
    "###### * Look at trends, extreme, null and missing values\n",
    "###### * Added column to Data Set called \"house_age\""
   ]
  },
  {
   "cell_type": "code",
   "execution_count": null,
   "metadata": {},
   "outputs": [],
   "source": [
    "kc_df.head()\n",
    "\n",
    "# Take a peek at the data and see if anything does not look right off the start.\n",
    "# I can already see a NaN value for waterfront and year renovated aswell."
   ]
  },
  {
   "cell_type": "markdown",
   "metadata": {},
   "source": [
    "###### * Exploring column names and index range to see if there are missing values in the dataset.\n",
    "###### * Also noting the type of data: integer, float, or object. "
   ]
  },
  {
   "cell_type": "code",
   "execution_count": null,
   "metadata": {},
   "outputs": [],
   "source": [
    "kc_df.info()\n",
    "# 21 columns, 21597 data entries"
   ]
  },
  {
   "cell_type": "markdown",
   "metadata": {},
   "source": [
    "###### * My code above returned that I have missing values in \"waterfront\", \"view\", and \"year renovated\"\n",
    "###### * Now I want to double check this using \"isna()\" "
   ]
  },
  {
   "cell_type": "code",
   "execution_count": null,
   "metadata": {},
   "outputs": [],
   "source": [
    "kc_df.isna().sum()"
   ]
  },
  {
   "cell_type": "markdown",
   "metadata": {},
   "source": [
    "###### * The outputs above look like both methods pointed out the same number of missing values in the dataset."
   ]
  },
  {
   "cell_type": "markdown",
   "metadata": {},
   "source": [
    "#### Creating new variable \"house_age\" and adding it to our dataset.\n"
   ]
  },
  {
   "cell_type": "code",
   "execution_count": null,
   "metadata": {},
   "outputs": [],
   "source": [
    "kc_df['house_age'] = 2019 - kc_df['yr_built']"
   ]
  },
  {
   "cell_type": "code",
   "execution_count": null,
   "metadata": {},
   "outputs": [],
   "source": [
    "kc_df.head()"
   ]
  },
  {
   "cell_type": "code",
   "execution_count": null,
   "metadata": {},
   "outputs": [],
   "source": [
    "kc_df['house_age']"
   ]
  },
  {
   "cell_type": "code",
   "execution_count": null,
   "metadata": {},
   "outputs": [],
   "source": [
    "kc_df['house_age'].head()"
   ]
  },
  {
   "cell_type": "markdown",
   "metadata": {},
   "source": [
    "# 2.) Clean & Visualize The Data"
   ]
  },
  {
   "cell_type": "markdown",
   "metadata": {},
   "source": [
    "##### * Before looking at my main variables: zipcodes, price, and house age,\n",
    "##### * I am going to clean my data by dealing with the missing values\n",
    "##### * I see outliers, which I am going to tackle later on.\n",
    "##### * I am going to look at the missing values again and then replace them."
   ]
  },
  {
   "cell_type": "markdown",
   "metadata": {},
   "source": [
    "######  Now I am going to copy the kc_df to look at the data - called \"newkc_df\""
   ]
  },
  {
   "cell_type": "code",
   "execution_count": null,
   "metadata": {},
   "outputs": [],
   "source": [
    "newkc_df = kc_df.copy()\n",
    "newkc_df.head()\n",
    "\n",
    "#Reference - https://pandas.pydata.org/pandas-docs/stable/reference/api/pandas.DataFrame.copy.html"
   ]
  },
  {
   "cell_type": "markdown",
   "metadata": {},
   "source": [
    "###### Removing objects ('date', 'sqft_basement') and 'id' column,\n",
    "###### because this data is not neccessary for what I am looking at."
   ]
  },
  {
   "cell_type": "code",
   "execution_count": null,
   "metadata": {
    "scrolled": true
   },
   "outputs": [],
   "source": [
    "newkc_df.drop(columns = ['id', 'date', 'sqft_basement' ], inplace=True)"
   ]
  },
  {
   "cell_type": "code",
   "execution_count": null,
   "metadata": {},
   "outputs": [],
   "source": [
    "newkc_df.info()"
   ]
  },
  {
   "cell_type": "markdown",
   "metadata": {},
   "source": [
    "#### Checking to see what the column variables look like based on price."
   ]
  },
  {
   "cell_type": "code",
   "execution_count": null,
   "metadata": {},
   "outputs": [],
   "source": [
    "fig, axes = plt.subplots(nrows=1, ncols=6, figsize=(16,3))\n",
    "for xcol, ax in zip(list(newkc_df)[1:7], axes):\n",
    "                    newkc_df.plot(kind='scatter', x=xcol, y='price', ax=ax, alpha = 0.4, color = 'r');"
   ]
  },
  {
   "cell_type": "code",
   "execution_count": null,
   "metadata": {},
   "outputs": [],
   "source": [
    "fig, axes = plt.subplots(nrows=1, ncols=6, figsize=(16,3))\n",
    "for xcol, ax in zip(list(newkc_df)[8:14], axes):\n",
    "                    newkc_df.plot(kind='scatter', x=xcol, y='price', ax=ax, alpha = 0.4, color = 'r');"
   ]
  },
  {
   "cell_type": "code",
   "execution_count": null,
   "metadata": {},
   "outputs": [],
   "source": [
    "fig, axes = plt.subplots(nrows=1, ncols=6, figsize=(16,3))\n",
    "for xcol, ax in zip(list(newkc_df)[15:20], axes):\n",
    "                    newkc_df.plot(kind='scatter', x=xcol, y='price', ax=ax, alpha = 0.4, color = 'r');"
   ]
  },
  {
   "cell_type": "code",
   "execution_count": null,
   "metadata": {},
   "outputs": [],
   "source": [
    "newkc_df.isna().sum()"
   ]
  },
  {
   "cell_type": "code",
   "execution_count": null,
   "metadata": {},
   "outputs": [],
   "source": [
    "newkc_df['yr_renovated'] = newkc_df['yr_renovated'].fillna(0)\n",
    "newkc_df['view'] = newkc_df['view'].fillna(0)\n",
    "newkc_df['waterfront'] = newkc_df['waterfront'].fillna(0)\n",
    "\n",
    "newkc_df.isna().sum()\n",
    "\n",
    "#https://datatofish.com/replace-nan-values-with-zeros/"
   ]
  },
  {
   "cell_type": "code",
   "execution_count": null,
   "metadata": {},
   "outputs": [],
   "source": [
    "newkc_df.info()"
   ]
  },
  {
   "cell_type": "markdown",
   "metadata": {},
   "source": [
    "#### Now that I dealt with missing values, I can use IQR to remove outliers from the dataframe."
   ]
  },
  {
   "cell_type": "code",
   "execution_count": null,
   "metadata": {},
   "outputs": [],
   "source": [
    "Q1 = newkc_df.quantile(0.25)\n",
    "Q3 = newkc_df.quantile(0.75)\n",
    "IQR = Q3 - Q1\n",
    "print(IQR)\n",
    "\n",
    "#https://towardsdatascience.com/ways-to-detect-and-remove-the-outliers-404d16608dba"
   ]
  },
  {
   "cell_type": "code",
   "execution_count": null,
   "metadata": {},
   "outputs": [],
   "source": [
    "print(newkc_df < (Q1 - 1.5 * IQR)) |(newkc_df > (Q3 + 1.5 * IQR))"
   ]
  },
  {
   "cell_type": "code",
   "execution_count": null,
   "metadata": {},
   "outputs": [],
   "source": [
    "newkc_df_out = newkc_df[~((newkc_df < (Q1 - 1.5 * IQR)) |(newkc_df > (Q3 + 1.5 * IQR))).any(axis=1)]\n",
    "newkc_df_out.shape"
   ]
  },
  {
   "cell_type": "markdown",
   "metadata": {},
   "source": [
    "#### * Now the outliers are removed from the Dataset \"newkc_df\""
   ]
  },
  {
   "cell_type": "markdown",
   "metadata": {},
   "source": [
    "##### Here we are trying to see the average house price for every house age (1, 2, 3, 4 (years old), etc.) \n",
    "##### Now I wan't to visualize the data and graph it with a bar graph.\n",
    "\n",
    "## Question: Which zip codes can I get the best bang for my buck when purchasing a house?"
   ]
  },
  {
   "cell_type": "code",
   "execution_count": null,
   "metadata": {},
   "outputs": [],
   "source": [
    "sns.set(rc={'figure.figsize': (16,12)})\n",
    "new_df = kc_df[['house_age', 'price']].copy().rename(columns = {'median': 'median price $'})\n",
    "new_df.groupby(\"house_age\").median().plot(y='price', kind = 'bar')"
   ]
  },
  {
   "cell_type": "markdown",
   "metadata": {},
   "source": [
    "###### Great, we can see that houses 76 years old have the lowest average price of around 290k.\n",
    "###### This is the only average price based on house age under 300k. That's a good start"
   ]
  },
  {
   "cell_type": "code",
   "execution_count": null,
   "metadata": {},
   "outputs": [],
   "source": [
    "newkc_df.info()"
   ]
  },
  {
   "cell_type": "markdown",
   "metadata": {},
   "source": [
    "#### Now I want to visually look at how Price effects zipcode, and how house age effects zip code.\n",
    "#### First I want to get an idea of my zipcode data."
   ]
  },
  {
   "cell_type": "code",
   "execution_count": null,
   "metadata": {
    "scrolled": true
   },
   "outputs": [],
   "source": [
    "newkc_df['zipcode'].value_counts()"
   ]
  },
  {
   "cell_type": "code",
   "execution_count": null,
   "metadata": {},
   "outputs": [],
   "source": [
    "newkc_df['zipcode'].describe()"
   ]
  },
  {
   "cell_type": "markdown",
   "metadata": {},
   "source": [
    "## Question: Which zipcodes have the highest average house prices?\n",
    "#### * Looking at how price effects zipcode"
   ]
  },
  {
   "cell_type": "code",
   "execution_count": null,
   "metadata": {},
   "outputs": [],
   "source": [
    "red = dict(markerfacecolor='r')\n",
    "sns.set(rc={'figure.figsize': (16,12)})\n",
    "newkc_df.boxplot(by='zipcode', column='price', fontsize = 12, rot = 90, flierprops = red);\n",
    "\n",
    "plt.title('Boxplots of Price Variation ($) Grouped by Zipcode', fontsize = 16)\n",
    "\n",
    "plt.xlabel('King County Zipcodes', fontsize = 12);\n",
    "plt.ylabel('Price, $', fontsize = 12);\n",
    "plt.savefig(\"Price vs Zip.png\")\n",
    "\n",
    "\n",
    "# Reference: https://pandas.pydata.org/pandas-docs/stable/reference/api/pandas.DataFrame.boxplot.html"
   ]
  },
  {
   "cell_type": "markdown",
   "metadata": {},
   "source": [
    "## Question: Which zip codes have the oldest houses that I could renovate?\n",
    "#### * Looking at how house_age effects zipcode\n"
   ]
  },
  {
   "cell_type": "code",
   "execution_count": null,
   "metadata": {},
   "outputs": [],
   "source": [
    "green = dict(markerfacecolor='g')\n",
    "sns.set(rc={'figure.figsize': (16,12)})\n",
    "newkc_df.boxplot(by='zipcode', column='house_age', fontsize = 12, rot = 90, flierprops = green);\n",
    "\n",
    "plt.title('Boxplots of House Age Variation Grouped by Zipcode', fontsize = 16)\n",
    "\n",
    "plt.xlabel('King County Zipcodes', fontsize = 12);\n",
    "plt.ylabel('Age', fontsize = 12);\n",
    "plt.savefig(\"House Age vs Zip.png\")\n",
    "\n",
    "\n",
    "# Reference: https://pandas.pydata.org/pandas-docs/stable/reference/api/pandas.DataFrame.boxplot.html"
   ]
  },
  {
   "cell_type": "markdown",
   "metadata": {},
   "source": [
    "###### 98102 Zipcode average house age is between 90-95 years old. Yet, on average, the house prices range from 50k-100k."
   ]
  },
  {
   "cell_type": "code",
   "execution_count": null,
   "metadata": {},
   "outputs": [],
   "source": [
    "newkc_df.columns"
   ]
  },
  {
   "cell_type": "code",
   "execution_count": null,
   "metadata": {},
   "outputs": [],
   "source": [
    "with sns.plotting_context(\"notebook\",font_scale=2.5):\n",
    "    g = sns.pairplot(newkc_df[['price','house_age','zipcode','sqft_living','bedrooms']], \n",
    "                 hue='bedrooms', palette='tab20',height=6)\n",
    "g.set(xticklabels=[]);"
   ]
  },
  {
   "cell_type": "markdown",
   "metadata": {},
   "source": [
    "# 3.) Modeling"
   ]
  },
  {
   "cell_type": "markdown",
   "metadata": {},
   "source": [
    "## * sklearn modeling\n",
    "#### * splitting the dataset into train and validation sets"
   ]
  },
  {
   "cell_type": "code",
   "execution_count": null,
   "metadata": {},
   "outputs": [],
   "source": [
    "X = newkc_df[['house_age','zipcode','sqft_living','bedrooms']]\n",
    "y = newkc_df[['price']]\n",
    "\n",
    "from sklearn.model_selection import train_test_split\n",
    "X_train, X_test, y_train, y_test = train_test_split(X, y, test_size = 1/3, random_state = 10)"
   ]
  },
  {
   "cell_type": "code",
   "execution_count": null,
   "metadata": {},
   "outputs": [],
   "source": [
    "from sklearn.linear_model import LinearRegression\n",
    "regressor = LinearRegression()\n",
    "\n",
    "regressor.fit(X_train, y_train)\n",
    "\n",
    "y_pred = regressor.predict(X_test)\n",
    "\n",
    "from sklearn.metrics import r2_score, mean_squared_error\n",
    "\n",
    "print(f\"R2 score: {r2_score(y_test, y_pred)}\")\n",
    "\n",
    "print(f\"MSE score: {mean_squared_error(y_test, y_pred)}\")"
   ]
  },
  {
   "cell_type": "markdown",
   "metadata": {},
   "source": [
    "### r2 score = 0.5503993021431164"
   ]
  },
  {
   "cell_type": "code",
   "execution_count": null,
   "metadata": {},
   "outputs": [],
   "source": [
    "#r2 close to 1 is good, mse close to 0 is good."
   ]
  },
  {
   "cell_type": "code",
   "execution_count": null,
   "metadata": {},
   "outputs": [],
   "source": [
    "X = newkc_df[['house_age','zipcode','sqft_living','bedrooms', 'grade']]\n",
    "y = newkc_df[['price']]\n",
    "\n",
    "from sklearn.model_selection import train_test_split\n",
    "X_train, X_test, y_train, y_test = train_test_split(X, y, test_size = 1/3, random_state = 10)"
   ]
  },
  {
   "cell_type": "code",
   "execution_count": null,
   "metadata": {},
   "outputs": [],
   "source": [
    "from sklearn.linear_model import LinearRegression\n",
    "regressor = LinearRegression()\n",
    "\n",
    "regressor.fit(X_train, y_train)\n",
    "\n",
    "y_pred = regressor.predict(X_test)\n",
    "\n",
    "from sklearn.metrics import r2_score, mean_squared_error\n",
    "\n",
    "print(f\"R2 score: {r2_score(y_test, y_pred)}\")\n",
    "\n",
    "print(f\"MSE score: {mean_squared_error(y_test, y_pred)}\")"
   ]
  },
  {
   "cell_type": "markdown",
   "metadata": {},
   "source": [
    "### r2 score = 0.6130299142907581"
   ]
  },
  {
   "cell_type": "code",
   "execution_count": null,
   "metadata": {},
   "outputs": [],
   "source": [
    "#https://www.kaggle.com/divan0/multiple-linear-regression\n",
    "#https://medium.com/data-science-everywhere/linear-regression-in-python-28dbe9674e36"
   ]
  },
  {
   "cell_type": "markdown",
   "metadata": {},
   "source": [
    "## * statsmodels modeling"
   ]
  },
  {
   "cell_type": "code",
   "execution_count": null,
   "metadata": {},
   "outputs": [],
   "source": [
    "import statsmodels.api as sm\n",
    "from statsmodels.formula.api import ols"
   ]
  },
  {
   "cell_type": "code",
   "execution_count": null,
   "metadata": {},
   "outputs": [],
   "source": [
    "m = ols('price ~ house_age',newkc_df).fit()\n",
    "print (m.summary())"
   ]
  },
  {
   "cell_type": "code",
   "execution_count": null,
   "metadata": {},
   "outputs": [],
   "source": [
    "sns.jointplot(x=\"house_age\", y=\"price\", data=newkc_df, kind = 'reg',fit_reg= True, height = 7)\n",
    "plt.show()"
   ]
  },
  {
   "cell_type": "markdown",
   "metadata": {},
   "source": [
    "###### Good to see graphically because it doesent make much sense\n",
    "###### Since the price values and house age values are in completely different ranges."
   ]
  },
  {
   "cell_type": "code",
   "execution_count": null,
   "metadata": {
    "scrolled": true
   },
   "outputs": [],
   "source": [
    "m = ols('price ~ house_age + zipcode',newkc_df).fit()\n",
    "print (m.summary())"
   ]
  },
  {
   "cell_type": "markdown",
   "metadata": {},
   "source": [
    "### r2 = .004 (WOW)"
   ]
  },
  {
   "cell_type": "code",
   "execution_count": null,
   "metadata": {},
   "outputs": [],
   "source": [
    "m = ols('price ~ house_age + zipcode + sqft_living + bedrooms',newkc_df).fit()\n",
    "print (m.summary())\n",
    "\n",
    "#https://www.springboard.com/blog/data-mining-python-tutorial/"
   ]
  },
  {
   "cell_type": "markdown",
   "metadata": {},
   "source": [
    "### r2 = .541 (WAHOO!)\n",
    "### p value = 0 (WAHOOx2)"
   ]
  },
  {
   "cell_type": "markdown",
   "metadata": {},
   "source": [
    "### With an adjusted r2 of .541, the relationship is moderately strong and we did a good job on our model."
   ]
  }
 ],
 "metadata": {
  "kernelspec": {
   "display_name": "Python 3",
   "language": "python",
   "name": "python3"
  },
  "language_info": {
   "codemirror_mode": {
    "name": "ipython",
    "version": 3
   },
   "file_extension": ".py",
   "mimetype": "text/x-python",
   "name": "python",
   "nbconvert_exporter": "python",
   "pygments_lexer": "ipython3",
   "version": "3.7.3"
  }
 },
 "nbformat": 4,
 "nbformat_minor": 2
}
